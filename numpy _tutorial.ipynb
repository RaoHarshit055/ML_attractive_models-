{
 "cells": [
  {
   "cell_type": "code",
   "execution_count": 1,
   "id": "6b785690-d356-495b-ba13-badb0c374925",
   "metadata": {},
   "outputs": [],
   "source": [
    "import numpy as np"
   ]
  },
  {
   "cell_type": "code",
   "execution_count": 2,
   "id": "d9128389-15bd-42b2-8b5c-637d61f5c79c",
   "metadata": {},
   "outputs": [],
   "source": [
    "myarr=np.array([9,3,5,6,7],np.int64) # 1 D array "
   ]
  },
  {
   "cell_type": "code",
   "execution_count": 3,
   "id": "d69dc2d8-a0cb-4250-8ba1-26f82a7dfcb0",
   "metadata": {
    "panel-layout": {
     "height": 27.140625,
     "visible": true,
     "width": 100
    }
   },
   "outputs": [
    {
     "data": {
      "text/plain": [
       "array([9, 3, 5, 6, 7], dtype=int64)"
      ]
     },
     "execution_count": 3,
     "metadata": {},
     "output_type": "execute_result"
    }
   ],
   "source": [
    "myarr"
   ]
  },
  {
   "cell_type": "code",
   "execution_count": 4,
   "id": "2f00f3e3-bbe4-4c9c-8173-b1786d687687",
   "metadata": {
    "panel-layout": {
     "height": 27.140625,
     "visible": true,
     "width": 100
    }
   },
   "outputs": [
    {
     "data": {
      "text/plain": [
       "9"
      ]
     },
     "execution_count": 4,
     "metadata": {},
     "output_type": "execute_result"
    }
   ],
   "source": [
    "myarr[0]"
   ]
  },
  {
   "cell_type": "code",
   "execution_count": 5,
   "id": "5a23f43d-9012-4562-8405-9206ed7d4e9d",
   "metadata": {},
   "outputs": [],
   "source": [
    "myarr=np.array([[9,3,5,6,7]],np.int64) # 2 D array"
   ]
  },
  {
   "cell_type": "code",
   "execution_count": 6,
   "id": "d49a1455-103f-4c12-b00e-40017d51982e",
   "metadata": {
    "panel-layout": {
     "height": 27.140625,
     "visible": true,
     "width": 100
    }
   },
   "outputs": [
    {
     "data": {
      "text/plain": [
       "array([[9, 3, 5, 6, 7]], dtype=int64)"
      ]
     },
     "execution_count": 6,
     "metadata": {},
     "output_type": "execute_result"
    }
   ],
   "source": [
    "myarr"
   ]
  },
  {
   "cell_type": "code",
   "execution_count": 7,
   "id": "2ed3d143-9a8e-442a-b489-8f11491f0455",
   "metadata": {
    "panel-layout": {
     "height": 27.140625,
     "visible": true,
     "width": 100
    }
   },
   "outputs": [
    {
     "data": {
      "text/plain": [
       "6"
      ]
     },
     "execution_count": 7,
     "metadata": {},
     "output_type": "execute_result"
    }
   ],
   "source": [
    "myarr[0,3] # ans will we 6"
   ]
  },
  {
   "cell_type": "code",
   "execution_count": 8,
   "id": "69da8b41-3997-4b42-ab3d-4711e30b7686",
   "metadata": {
    "panel-layout": {
     "height": 27.140625,
     "visible": true,
     "width": 100
    }
   },
   "outputs": [
    {
     "data": {
      "text/plain": [
       "(1, 5)"
      ]
     },
     "execution_count": 8,
     "metadata": {},
     "output_type": "execute_result"
    }
   ],
   "source": [
    "myarr.shape # tell us the shape of the array"
   ]
  },
  {
   "cell_type": "code",
   "execution_count": 9,
   "id": "f251f894-1107-445b-8af2-0a5804234918",
   "metadata": {
    "panel-layout": {
     "height": 27.140625,
     "visible": true,
     "width": 100
    }
   },
   "outputs": [
    {
     "data": {
      "text/plain": [
       "dtype('int64')"
      ]
     },
     "execution_count": 9,
     "metadata": {},
     "output_type": "execute_result"
    }
   ],
   "source": [
    "myarr.dtype # tell the datatype of the array"
   ]
  },
  {
   "cell_type": "code",
   "execution_count": 10,
   "id": "91ff7b56-c93b-44cb-baa5-5f5b7917d58c",
   "metadata": {
    "panel-layout": {
     "height": 27.140625,
     "visible": true,
     "width": 100
    }
   },
   "outputs": [
    {
     "data": {
      "text/plain": [
       "array([[9, 3, 5, 8, 7]], dtype=int64)"
      ]
     },
     "execution_count": 10,
     "metadata": {},
     "output_type": "execute_result"
    }
   ],
   "source": [
    "myarr[0,3]=8 # 6 will replace by 8\n",
    "myarr"
   ]
  },
  {
   "cell_type": "markdown",
   "id": "52ab3146-f11b-4699-8530-db92b516d9e8",
   "metadata": {
    "panel-layout": {
     "height": 60.59375,
     "visible": true,
     "width": 100
    }
   },
   "source": [
    "# array creation from other python structure"
   ]
  },
  {
   "cell_type": "code",
   "execution_count": 12,
   "id": "e79c1312-de78-4aef-a0cd-52a7e11a006e",
   "metadata": {
    "panel-layout": {
     "height": 61.421875,
     "visible": true,
     "width": 100
    }
   },
   "outputs": [
    {
     "data": {
      "text/plain": [
       "array([[9, 8, 7],\n",
       "       [6, 5, 4],\n",
       "       [3, 2, 1]])"
      ]
     },
     "execution_count": 12,
     "metadata": {},
     "output_type": "execute_result"
    }
   ],
   "source": [
    "listarray=np.array([[9,8,7],[6,5,4],[3,2,1]]) # 2 D array:\n",
    "listarray"
   ]
  },
  {
   "cell_type": "code",
   "execution_count": 13,
   "id": "c0aefd61-4324-4fb7-b2a0-132692b944e9",
   "metadata": {
    "panel-layout": {
     "height": 27.140625,
     "visible": true,
     "width": 100
    }
   },
   "outputs": [
    {
     "data": {
      "text/plain": [
       "(3, 3)"
      ]
     },
     "execution_count": 13,
     "metadata": {},
     "output_type": "execute_result"
    }
   ],
   "source": [
    "listarray.shape "
   ]
  },
  {
   "cell_type": "code",
   "execution_count": 14,
   "id": "11ad64f7-884d-41f7-a889-bb85c73bc7e1",
   "metadata": {
    "panel-layout": {
     "height": 27.140625,
     "visible": true,
     "width": 100
    }
   },
   "outputs": [
    {
     "data": {
      "text/plain": [
       "9"
      ]
     },
     "execution_count": 14,
     "metadata": {},
     "output_type": "execute_result"
    }
   ],
   "source": [
    "listarray.size"
   ]
  },
  {
   "cell_type": "code",
   "execution_count": 15,
   "id": "e70aba41-ac67-48b0-ac3d-36add9228d04",
   "metadata": {
    "panel-layout": {
     "height": 61.421875,
     "visible": true,
     "width": 100
    }
   },
   "outputs": [
    {
     "data": {
      "text/plain": [
       "array([[ 9,  8,  7],\n",
       "       [ 6,  5,  4],\n",
       "       [ 3, 44,  1]])"
      ]
     },
     "execution_count": 15,
     "metadata": {},
     "output_type": "execute_result"
    }
   ],
   "source": [
    "listarray[2,1]=44 # 4 will replaced by 44\n",
    "listarray"
   ]
  },
  {
   "cell_type": "code",
   "execution_count": 16,
   "id": "acd5ca3f-eb97-470e-a5c8-b59a9641b32a",
   "metadata": {},
   "outputs": [
    {
     "data": {
      "text/plain": [
       "array([[0., 0., 0., 0., 0.],\n",
       "       [0., 0., 0., 0., 0.]])"
      ]
     },
     "execution_count": 16,
     "metadata": {},
     "output_type": "execute_result"
    }
   ],
   "source": [
    "zro=np.zeros((2,5)) # make a array that contain zeros\n",
    "zro"
   ]
  },
  {
   "cell_type": "code",
   "execution_count": 17,
   "id": "b42249e5-846c-4201-b032-5afc90741ce5",
   "metadata": {},
   "outputs": [
    {
     "data": {
      "text/plain": [
       "array([ 1,  2,  3,  4,  5,  6,  7,  8,  9, 10, 11, 12, 13, 14])"
      ]
     },
     "execution_count": 17,
     "metadata": {},
     "output_type": "execute_result"
    }
   ],
   "source": [
    "rng=np.arange(1,15) # arrange the numbers yaad kar python concepts\n",
    "rng"
   ]
  },
  {
   "cell_type": "code",
   "execution_count": 18,
   "id": "cc7f6a44-c12f-4e83-872a-51cb887ed8e3",
   "metadata": {},
   "outputs": [
    {
     "data": {
      "text/plain": [
       "array([ 1,  3,  5,  7,  9, 11, 13])"
      ]
     },
     "execution_count": 18,
     "metadata": {},
     "output_type": "execute_result"
    }
   ],
   "source": [
    "rng=np.arange(1,15,2)\n",
    "rng"
   ]
  },
  {
   "cell_type": "code",
   "execution_count": 19,
   "id": "b0b8c375-1828-4ee4-93e0-26db66c0b7a2",
   "metadata": {},
   "outputs": [
    {
     "data": {
      "text/plain": [
       "array([1.        , 2.33333333, 3.66666667, 5.        ])"
      ]
     },
     "execution_count": 19,
     "metadata": {},
     "output_type": "execute_result"
    }
   ],
   "source": [
    "lspace=np.linspace(1,5,4) # distance form one number to anouter is equal\n",
    "lspace "
   ]
  },
  {
   "cell_type": "code",
   "execution_count": 119,
   "id": "29fd978c-5e20-4364-a6b6-173069396b49",
   "metadata": {},
   "outputs": [
    {
     "data": {
      "text/plain": [
       "array([[0.0000000e+000, 1.7035383e-320],\n",
       "       [0.0000000e+000, 9.5610669e-312],\n",
       "       [0.0000000e+000, 3.2506061e-319]])"
      ]
     },
     "execution_count": 119,
     "metadata": {},
     "output_type": "execute_result"
    }
   ],
   "source": [
    "ept=np.empty((3,2))  # no idea keya karta ask chat gpt\n",
    "ept"
   ]
  },
  {
   "cell_type": "code",
   "execution_count": 21,
   "id": "54e10046-92d2-4efb-91b3-8222fbf8d7e7",
   "metadata": {},
   "outputs": [
    {
     "data": {
      "text/plain": [
       "array([[1., 0., 0., 0., 0., 0., 0., 0., 0., 0.],\n",
       "       [0., 1., 0., 0., 0., 0., 0., 0., 0., 0.],\n",
       "       [0., 0., 1., 0., 0., 0., 0., 0., 0., 0.],\n",
       "       [0., 0., 0., 1., 0., 0., 0., 0., 0., 0.],\n",
       "       [0., 0., 0., 0., 1., 0., 0., 0., 0., 0.],\n",
       "       [0., 0., 0., 0., 0., 1., 0., 0., 0., 0.],\n",
       "       [0., 0., 0., 0., 0., 0., 1., 0., 0., 0.],\n",
       "       [0., 0., 0., 0., 0., 0., 0., 1., 0., 0.],\n",
       "       [0., 0., 0., 0., 0., 0., 0., 0., 1., 0.],\n",
       "       [0., 0., 0., 0., 0., 0., 0., 0., 0., 1.]])"
      ]
     },
     "execution_count": 21,
     "metadata": {},
     "output_type": "execute_result"
    }
   ],
   "source": [
    "ide=np.identity(10) #make a identity array\n",
    "ide"
   ]
  },
  {
   "cell_type": "code",
   "execution_count": 22,
   "id": "679b449d-cb53-4f47-8fda-f3c2a2cc7c90",
   "metadata": {},
   "outputs": [
    {
     "data": {
      "text/plain": [
       "array([ 1,  2,  3,  4,  5,  6,  7,  8,  9, 10, 11, 12, 13, 14, 15, 16, 17,\n",
       "       18, 19, 20])"
      ]
     },
     "execution_count": 22,
     "metadata": {},
     "output_type": "execute_result"
    }
   ],
   "source": [
    "rd=np.arange(1,21)\n",
    "rd"
   ]
  },
  {
   "cell_type": "code",
   "execution_count": 23,
   "id": "8300d8ca-a402-41c9-a8fd-75e318a13e77",
   "metadata": {},
   "outputs": [
    {
     "data": {
      "text/plain": [
       "array([[ 1,  2,  3,  4],\n",
       "       [ 5,  6,  7,  8],\n",
       "       [ 9, 10, 11, 12],\n",
       "       [13, 14, 15, 16],\n",
       "       [17, 18, 19, 20]])"
      ]
     },
     "execution_count": 23,
     "metadata": {},
     "output_type": "execute_result"
    }
   ],
   "source": [
    "rd=rd.reshape(5,4)  # reshape into an array\n",
    "rd"
   ]
  },
  {
   "cell_type": "code",
   "execution_count": 24,
   "id": "4ed5dba1-4ff3-4248-96e7-46810098e860",
   "metadata": {},
   "outputs": [
    {
     "data": {
      "text/plain": [
       "array([ 1,  2,  3,  4,  5,  6,  7,  8,  9, 10, 11, 12, 13, 14, 15, 16, 17,\n",
       "       18, 19, 20])"
      ]
     },
     "execution_count": 24,
     "metadata": {},
     "output_type": "execute_result"
    }
   ],
   "source": [
    "rd.ravel() # rearrange the array"
   ]
  },
  {
   "cell_type": "markdown",
   "id": "fda7b3be-356c-478e-8112-4ba89b830421",
   "metadata": {},
   "source": [
    "**axis start from now : axis only have sum and max function**"
   ]
  },
  {
   "cell_type": "code",
   "execution_count": 26,
   "id": "fee7e79e-1d60-4995-9ca0-7401f37239ca",
   "metadata": {},
   "outputs": [
    {
     "data": {
      "text/plain": [
       "array([[ 4,  5,  6],\n",
       "       [ 3,  7,  8],\n",
       "       [ 7,  5, 12]])"
      ]
     },
     "execution_count": 26,
     "metadata": {},
     "output_type": "execute_result"
    }
   ],
   "source": [
    "f=np.array([[4,5,6],[3,7,8],[7,5,12]])\n",
    "f"
   ]
  },
  {
   "cell_type": "code",
   "execution_count": 27,
   "id": "535cd99b-a870-47f4-8398-3cf4554b7ef9",
   "metadata": {},
   "outputs": [
    {
     "data": {
      "text/plain": [
       "array([14, 17, 26])"
      ]
     },
     "execution_count": 27,
     "metadata": {},
     "output_type": "execute_result"
    }
   ],
   "source": [
    "f.sum(axis=0) # add all the elemenet at axis 0 and give us the 1 D array"
   ]
  },
  {
   "cell_type": "code",
   "execution_count": 28,
   "id": "6bc503fd-0be5-49b1-a37d-470fbef32073",
   "metadata": {},
   "outputs": [
    {
     "data": {
      "text/plain": [
       "array([15, 18, 24])"
      ]
     },
     "execution_count": 28,
     "metadata": {},
     "output_type": "execute_result"
    }
   ],
   "source": [
    "f.sum(axis=1) # add all the elemenet at axis 1 and give us the 1 D array"
   ]
  },
  {
   "cell_type": "code",
   "execution_count": 29,
   "id": "e0eee777-09cb-4b8b-8a0d-1af5781f50d0",
   "metadata": {},
   "outputs": [
    {
     "data": {
      "text/plain": [
       "array([[ 4,  3,  7],\n",
       "       [ 5,  7,  5],\n",
       "       [ 6,  8, 12]])"
      ]
     },
     "execution_count": 29,
     "metadata": {},
     "output_type": "execute_result"
    }
   ],
   "source": [
    "f.T #tranpose the array"
   ]
  },
  {
   "cell_type": "code",
   "execution_count": 30,
   "id": "944092ba-bf4d-4299-ba59-4e4596b0d3fa",
   "metadata": {},
   "outputs": [
    {
     "data": {
      "text/plain": [
       "array([ 6,  8, 12])"
      ]
     },
     "execution_count": 30,
     "metadata": {},
     "output_type": "execute_result"
    }
   ],
   "source": [
    "f.max(axis=1)"
   ]
  },
  {
   "cell_type": "code",
   "execution_count": 31,
   "id": "5190aaf9-a0ec-44e7-aa8a-135833fbf1c1",
   "metadata": {},
   "outputs": [
    {
     "data": {
      "text/plain": [
       "<numpy.flatiter at 0x1c298a59d50>"
      ]
     },
     "execution_count": 31,
     "metadata": {},
     "output_type": "execute_result"
    }
   ],
   "source": [
    "f.flat"
   ]
  },
  {
   "cell_type": "code",
   "execution_count": 32,
   "id": "99e596bd-7a12-42f2-b8e2-de14f50b9e8c",
   "metadata": {},
   "outputs": [
    {
     "name": "stdout",
     "output_type": "stream",
     "text": [
      "4\n",
      "5\n",
      "6\n",
      "3\n",
      "7\n",
      "8\n",
      "7\n",
      "5\n",
      "12\n"
     ]
    }
   ],
   "source": [
    "for i in f.flat:\n",
    "    print(i)"
   ]
  },
  {
   "cell_type": "code",
   "execution_count": 33,
   "id": "df672b41-88e4-4df1-80b9-3410b4adca5c",
   "metadata": {},
   "outputs": [
    {
     "data": {
      "text/plain": [
       "36"
      ]
     },
     "execution_count": 33,
     "metadata": {},
     "output_type": "execute_result"
    }
   ],
   "source": [
    "f.nbytes # tells us how much bits this array is taken"
   ]
  },
  {
   "cell_type": "code",
   "execution_count": 34,
   "id": "7dde2f43-1d6c-4034-b998-f7c85366ce1d",
   "metadata": {},
   "outputs": [
    {
     "data": {
      "text/plain": [
       "array([[ 4,  5,  6],\n",
       "       [ 3,  7,  8],\n",
       "       [ 7,  5, 12]])"
      ]
     },
     "execution_count": 34,
     "metadata": {},
     "output_type": "execute_result"
    }
   ],
   "source": [
    "f[0,2]=6\n",
    "f"
   ]
  },
  {
   "cell_type": "code",
   "execution_count": 35,
   "id": "795dadbb-0ded-4763-b93f-628742d68465",
   "metadata": {},
   "outputs": [
    {
     "data": {
      "text/plain": [
       "3"
      ]
     },
     "execution_count": 35,
     "metadata": {},
     "output_type": "execute_result"
    }
   ],
   "source": [
    "f.argmin() # tell us the index of the mininum element"
   ]
  },
  {
   "cell_type": "code",
   "execution_count": 36,
   "id": "4dce6f95-483f-4596-9af4-bb07247481e2",
   "metadata": {},
   "outputs": [
    {
     "data": {
      "text/plain": [
       "8"
      ]
     },
     "execution_count": 36,
     "metadata": {},
     "output_type": "execute_result"
    }
   ],
   "source": [
    "f.argmax()"
   ]
  },
  {
   "cell_type": "code",
   "execution_count": 37,
   "id": "f3944743-7530-455a-8de5-fba66a74db22",
   "metadata": {},
   "outputs": [
    {
     "data": {
      "text/plain": [
       "array([2, 1, 2], dtype=int64)"
      ]
     },
     "execution_count": 37,
     "metadata": {},
     "output_type": "execute_result"
    }
   ],
   "source": [
    "f.argmax(axis=0) # max element index in axis 0"
   ]
  },
  {
   "cell_type": "code",
   "execution_count": 38,
   "id": "bb0f8490-4182-4d86-8437-a09d8b1304fe",
   "metadata": {},
   "outputs": [
    {
     "data": {
      "text/plain": [
       "array([1, 0, 0], dtype=int64)"
      ]
     },
     "execution_count": 38,
     "metadata": {},
     "output_type": "execute_result"
    }
   ],
   "source": [
    "f.argmin(axis=0) # minium element index in axis 0"
   ]
  },
  {
   "cell_type": "code",
   "execution_count": 39,
   "id": "00bc615a-fbad-4429-80e6-c5027188c716",
   "metadata": {},
   "outputs": [
    {
     "data": {
      "text/plain": [
       "array([[0, 1, 2],\n",
       "       [0, 1, 2],\n",
       "       [1, 0, 2]], dtype=int64)"
      ]
     },
     "execution_count": 39,
     "metadata": {},
     "output_type": "execute_result"
    }
   ],
   "source": [
    "f.argsort(axis=1)  # it give the index in which the array will be sorted in axis 1"
   ]
  },
  {
   "cell_type": "code",
   "execution_count": 40,
   "id": "99d4da13-6404-4db3-b66e-0a9ffb385486",
   "metadata": {},
   "outputs": [
    {
     "data": {
      "text/plain": [
       "array([[1, 0, 0],\n",
       "       [0, 2, 1],\n",
       "       [2, 1, 2]], dtype=int64)"
      ]
     },
     "execution_count": 40,
     "metadata": {},
     "output_type": "execute_result"
    }
   ],
   "source": [
    "f.argsort(axis=0) # it give the index in which the array will be sorted in axis 1"
   ]
  },
  {
   "cell_type": "code",
   "execution_count": 41,
   "id": "3711ecff-4563-4eb3-9822-5fadb90e2a38",
   "metadata": {},
   "outputs": [
    {
     "data": {
      "text/plain": [
       "array([[ 4,  5,  6],\n",
       "       [ 3,  7,  8],\n",
       "       [ 7,  5, 12]])"
      ]
     },
     "execution_count": 41,
     "metadata": {},
     "output_type": "execute_result"
    }
   ],
   "source": [
    "f"
   ]
  },
  {
   "cell_type": "code",
   "execution_count": 42,
   "id": "fd7da685-efb6-4d27-890b-a0f9e318bbb9",
   "metadata": {},
   "outputs": [
    {
     "data": {
      "text/plain": [
       "array([[3, 5, 4],\n",
       "       [7, 2, 1],\n",
       "       [9, 4, 5]])"
      ]
     },
     "execution_count": 42,
     "metadata": {},
     "output_type": "execute_result"
    }
   ],
   "source": [
    "y=np.array([[3,5,4],[7,2,1],[9,4,5]])\n",
    "y"
   ]
  },
  {
   "cell_type": "code",
   "execution_count": 43,
   "id": "f2b8a4b3-84c3-458d-9d4b-68c224878dda",
   "metadata": {},
   "outputs": [
    {
     "data": {
      "text/plain": [
       "array([[ 7, 10, 10],\n",
       "       [10,  9,  9],\n",
       "       [16,  9, 17]])"
      ]
     },
     "execution_count": 43,
     "metadata": {},
     "output_type": "execute_result"
    }
   ],
   "source": [
    "f+y # add the element of the array"
   ]
  },
  {
   "cell_type": "code",
   "execution_count": 44,
   "id": "fd98f4a1-4688-4222-af4c-1a0eb89df6a3",
   "metadata": {},
   "outputs": [
    {
     "data": {
      "text/plain": [
       "array([[12, 25, 24],\n",
       "       [21, 14,  8],\n",
       "       [63, 20, 60]])"
      ]
     },
     "execution_count": 44,
     "metadata": {},
     "output_type": "execute_result"
    }
   ],
   "source": [
    "f*y # multiply the array"
   ]
  },
  {
   "cell_type": "code",
   "execution_count": 45,
   "id": "3d9c20c2-8e35-45e9-a8bf-6105b281cfe3",
   "metadata": {},
   "outputs": [
    {
     "data": {
      "text/plain": [
       "array([[101,  54,  51],\n",
       "       [130,  61,  59],\n",
       "       [164,  93,  93]])"
      ]
     },
     "execution_count": 45,
     "metadata": {},
     "output_type": "execute_result"
    }
   ],
   "source": [
    "x=np.dot(f,y) # dot product between two array\n",
    "x"
   ]
  },
  {
   "cell_type": "code",
   "execution_count": 46,
   "id": "a6349df1-f2ea-4403-90a3-a62d28dbf616",
   "metadata": {},
   "outputs": [
    {
     "data": {
      "text/plain": [
       "array([[-10,   2,   5],\n",
       "       [ -9,  53, -43],\n",
       "       [-23,  73, -17]])"
      ]
     },
     "execution_count": 46,
     "metadata": {},
     "output_type": "execute_result"
    }
   ],
   "source": [
    "x=np.cross(f,y) # cross product between two array\n",
    "x"
   ]
  },
  {
   "cell_type": "code",
   "execution_count": 47,
   "id": "6f3f1f55-2375-4cfb-8b71-10af5858fb8b",
   "metadata": {},
   "outputs": [
    {
     "data": {
      "text/plain": [
       "array([[2.        , 2.23606798, 2.44948974],\n",
       "       [1.73205081, 2.64575131, 2.82842712],\n",
       "       [2.64575131, 2.23606798, 3.46410162]])"
      ]
     },
     "execution_count": 47,
     "metadata": {},
     "output_type": "execute_result"
    }
   ],
   "source": [
    "np.sqrt(f) # square root of the f matrix"
   ]
  },
  {
   "cell_type": "code",
   "execution_count": 48,
   "id": "87cf2059-5530-49c5-8c9f-8df7b26934ad",
   "metadata": {},
   "outputs": [
    {
     "data": {
      "text/plain": [
       "array([[ 4,  5,  6],\n",
       "       [ 3,  7,  8],\n",
       "       [ 7,  5, 12]])"
      ]
     },
     "execution_count": 48,
     "metadata": {},
     "output_type": "execute_result"
    }
   ],
   "source": [
    "f"
   ]
  },
  {
   "cell_type": "code",
   "execution_count": 49,
   "id": "a9d549e4-e375-4ed7-b9bb-21b15bc54eb5",
   "metadata": {},
   "outputs": [
    {
     "data": {
      "text/plain": [
       "57"
      ]
     },
     "execution_count": 49,
     "metadata": {},
     "output_type": "execute_result"
    }
   ],
   "source": [
    "f.sum()"
   ]
  },
  {
   "cell_type": "code",
   "execution_count": 50,
   "id": "ac8edd51-df16-4c72-80ee-c47a01ebbfbc",
   "metadata": {},
   "outputs": [
    {
     "data": {
      "text/plain": [
       "3"
      ]
     },
     "execution_count": 50,
     "metadata": {},
     "output_type": "execute_result"
    }
   ],
   "source": [
    "f.min()"
   ]
  },
  {
   "cell_type": "code",
   "execution_count": 51,
   "id": "c67bc687-cf67-4710-92e4-273425a3341a",
   "metadata": {},
   "outputs": [
    {
     "data": {
      "text/plain": [
       "12"
      ]
     },
     "execution_count": 51,
     "metadata": {},
     "output_type": "execute_result"
    }
   ],
   "source": [
    "f.max()"
   ]
  },
  {
   "cell_type": "code",
   "execution_count": 52,
   "id": "38488924-0f69-4123-ab5e-2bf2832ffcf5",
   "metadata": {},
   "outputs": [
    {
     "data": {
      "text/plain": [
       "(array([1, 1, 2, 2], dtype=int64), array([1, 2, 0, 2], dtype=int64))"
      ]
     },
     "execution_count": 52,
     "metadata": {},
     "output_type": "execute_result"
    }
   ],
   "source": [
    "np.where(f>6) # element that are greater then 5"
   ]
  },
  {
   "cell_type": "code",
   "execution_count": 53,
   "id": "c60ec86c-4f05-4b92-aa1a-5a60104e36b4",
   "metadata": {},
   "outputs": [
    {
     "data": {
      "text/plain": [
       "9"
      ]
     },
     "execution_count": 53,
     "metadata": {},
     "output_type": "execute_result"
    }
   ],
   "source": [
    "np.count_nonzero(f) # non zero value in an array"
   ]
  },
  {
   "cell_type": "code",
   "execution_count": 54,
   "id": "7fed9c44-86c0-44c3-ad7e-241f4b361daa",
   "metadata": {},
   "outputs": [],
   "source": [
    "import sys"
   ]
  },
  {
   "cell_type": "code",
   "execution_count": 55,
   "id": "e9b74bc9-1397-4f7b-ae3b-30cac52e3389",
   "metadata": {},
   "outputs": [],
   "source": [
    "a=[1,2,3,4,4,5,5,5]"
   ]
  },
  {
   "cell_type": "code",
   "execution_count": 56,
   "id": "69a519b2-8ba6-4a8d-bec7-41ce964fe51b",
   "metadata": {},
   "outputs": [],
   "source": [
    "anumpy=np.array(a)"
   ]
  },
  {
   "cell_type": "code",
   "execution_count": null,
   "id": "f4449d38-8cae-49b9-8f90-aacd58761b63",
   "metadata": {},
   "outputs": [],
   "source": [
    "sys.getsizeof(1)  # size of 1 item  in normal array"
   ]
  },
  {
   "cell_type": "code",
   "execution_count": 58,
   "id": "0a610437-1b0b-4906-8b51-00acf9202ebd",
   "metadata": {},
   "outputs": [
    {
     "data": {
      "text/plain": [
       "4"
      ]
     },
     "execution_count": 58,
     "metadata": {},
     "output_type": "execute_result"
    }
   ],
   "source": [
    "anumpy.itemsize # size of one item using numpy"
   ]
  },
  {
   "cell_type": "code",
   "execution_count": 3,
   "id": "7a5f09bf-6d10-4399-95fb-c8f6644400da",
   "metadata": {},
   "outputs": [],
   "source": [
    "import numpy as np"
   ]
  },
  {
   "cell_type": "code",
   "execution_count": 13,
   "id": "21ac67af-c86d-4fe6-8421-11e83ae39a76",
   "metadata": {},
   "outputs": [
    {
     "data": {
      "text/plain": [
       "array([], dtype=float64)"
      ]
     },
     "execution_count": 13,
     "metadata": {},
     "output_type": "execute_result"
    }
   ],
   "source": [
    "a=np.zeros(0)\n",
    "a"
   ]
  },
  {
   "cell_type": "code",
   "execution_count": 11,
   "id": "b81ef1ee-3372-41d8-8340-9e8acade64bd",
   "metadata": {},
   "outputs": [
    {
     "data": {
      "text/plain": [
       "array([0., 0., 0., 0., 0., 0., 0.])"
      ]
     },
     "execution_count": 11,
     "metadata": {},
     "output_type": "execute_result"
    }
   ],
   "source": [
    "a1=np.zeros(7)\n",
    "a1"
   ]
  },
  {
   "cell_type": "code",
   "execution_count": 15,
   "id": "ff41753b-7fd8-4286-8027-2d29ea02d0e2",
   "metadata": {},
   "outputs": [
    {
     "name": "stdout",
     "output_type": "stream",
     "text": [
      "[0 1 2 3 4 5 6 7 8 9]\n",
      "a[2].shape: () a[2]  = 2, Accessing an element returns a scalar\n",
      "a[-1] = 9\n",
      "The error message you'll see is:\n",
      "index 10 is out of bounds for axis 0 with size 10\n"
     ]
    }
   ],
   "source": [
    "#vector indexing operations on 1-D vectors\n",
    "a = np.arange(10)\n",
    "print(a)\n",
    "\n",
    "#access an element\n",
    "print(f\"a[2].shape: {a[2].shape} a[2]  = {a[2]}, Accessing an element returns a scalar\")\n",
    "\n",
    "# access the last element, negative indexes count from the end\n",
    "print(f\"a[-1] = {a[-1]}\")\n",
    "\n",
    "#indexs must be within the range of the vector or they will produce and error\n",
    "try:\n",
    "    c = a[10]\n",
    "except Exception as e:\n",
    "    print(\"The error message you'll see is:\")\n",
    "    print(e)"
   ]
  },
  {
   "cell_type": "code",
   "execution_count": 17,
   "id": "4c90b58a-c1b1-4cc8-a9f2-71a3a9929c18",
   "metadata": {},
   "outputs": [
    {
     "name": "stdout",
     "output_type": "stream",
     "text": [
      "[1 2 3 4]\n",
      "[-1 -2 -3 -4]\n"
     ]
    }
   ],
   "source": [
    "a = np.array([1,2,3,4])\n",
    "print(a)\n",
    "\n",
    "b=-a\n",
    "print(b)"
   ]
  },
  {
   "cell_type": "code",
   "execution_count": 19,
   "id": "09d0563f-d55a-40f4-ad8e-4e63fb715582",
   "metadata": {},
   "outputs": [
    {
     "name": "stdout",
     "output_type": "stream",
     "text": [
      "The error message you'll see is:\n",
      "operands could not be broadcast together with shapes (4,) (2,) \n"
     ]
    }
   ],
   "source": [
    "#try a mismatched vector operation\n",
    "c = np.array([1, 2])\n",
    "try:\n",
    "    d = a + c\n",
    "except Exception as e:\n",
    "    print(\"The error message you'll see is:\")\n",
    "    print(e)"
   ]
  },
  {
   "cell_type": "code",
   "execution_count": 21,
   "id": "71fb8390-e9f5-42f5-b99e-319241a2221a",
   "metadata": {},
   "outputs": [
    {
     "name": "stdout",
     "output_type": "stream",
     "text": [
      "[ 5 10 15 20]\n"
     ]
    }
   ],
   "source": [
    "z1= a*5;  print(z1)"
   ]
  },
  {
   "cell_type": "code",
   "execution_count": 23,
   "id": "886348fa-3899-4f22-84fc-6b87f279d1b8",
   "metadata": {},
   "outputs": [
    {
     "name": "stdout",
     "output_type": "stream",
     "text": [
      " a shape = (3, 1), np.array: a = [[5]\n",
      " [4]\n",
      " [3]]\n",
      " a shape = (3, 1), np.array: a = [[5]\n",
      " [4]\n",
      " [3]]\n"
     ]
    }
   ],
   "source": [
    "# NumPy routines which allocate memory and fill with user specified values\n",
    "a = np.array([[5] , [4], [3]]);   print(f\" a shape = {a.shape}, np.array: a = {a}\")\n",
    "a = np.array([[5],   # One can also\n",
    "              [4],   # separate values\n",
    "              [3]]); #into separate rows\n",
    "print(f\" a shape = {a.shape}, np.array: a = {a}\")"
   ]
  },
  {
   "cell_type": "code",
   "execution_count": 29,
   "id": "50a8e106-f729-428b-b5a8-283a4da0eae4",
   "metadata": {},
   "outputs": [
    {
     "name": "stdout",
     "output_type": "stream",
     "text": [
      "a.shape: (3, 3), \n",
      "a= [[0 1 2]\n",
      " [3 4 5]\n",
      " [6 7 8]]\n",
      "\n",
      "a[2,0].shape:   (), a[2,0] = 6,     type(a[2,0]) = <class 'numpy.int32'> Accessing an element returns a scalar\n",
      "\n",
      "a[2].shape:   (3,), a[2]   = [6 7 8], type(a[2])   = <class 'numpy.ndarray'>\n",
      "2\n"
     ]
    }
   ],
   "source": [
    "#vector indexing operations on matrices\n",
    "a = np.arange(9).reshape(3, 3)   #reshape is a convenient way to create matrices\n",
    "print(f\"a.shape: {a.shape}, \\na= {a}\")\n",
    " \n",
    "#access an element\n",
    "print(f\"\\na[2,0].shape:   {a[2, 0].shape}, a[2,0] = {a[2, 0]},     type(a[2,0]) = {type(a[2, 0])} Accessing an element returns a scalar\\n\")\n",
    "\n",
    "#access a row\n",
    "print(f\"a[2].shape:   {a[2].shape}, a[2]   = {a[2]}, type(a[2])   = {type(a[2])}\")\n",
    "\n",
    "print(a[0,2])"
   ]
  },
  {
   "cell_type": "code",
   "execution_count": 35,
   "id": "1a999fdc-ee5e-4cee-93a2-c668469da0da",
   "metadata": {},
   "outputs": [
    {
     "name": "stdout",
     "output_type": "stream",
     "text": [
      "[[0 1]\n",
      " [2 3]\n",
      " [4 5]]\n"
     ]
    }
   ],
   "source": [
    "a = np.arange(6).reshape(3, 2)\n",
    "print(a)"
   ]
  },
  {
   "cell_type": "code",
   "execution_count": 41,
   "id": "307a91d0-b79d-45c2-868e-c44e71d718ff",
   "metadata": {},
   "outputs": [
    {
     "name": "stdout",
     "output_type": "stream",
     "text": [
      "a = \n",
      "[[ 0  1  2  3  4  5  6  7  8  9]\n",
      " [10 11 12 13 14 15 16 17 18 19]]\n",
      "(2, 10)\n"
     ]
    }
   ],
   "source": [
    "a = np.arange(20).reshape(-1, 10)\n",
    "print(f\"a = \\n{a}\")\n",
    "print(a.shape)"
   ]
  },
  {
   "attachments": {
    "e9ce3529-cf53-473a-9d96-3bb27a8c8f6a.png": {
     "image/png": "[encoded data removed]"
    }
   },
   "cell_type": "markdown",
   "id": "0eca1a1d-37e8-4a76-a446-f3fe1bf049ec",
   "metadata": {},
   "source": [
    "![Screenshot 2025-01-21 231708.png](attachment:e9ce3529-cf53-473a-9d96-3bb27a8c8f6a.png)"
   ]
  },
  {
   "cell_type": "code",
   "execution_count": null,
   "id": "d429a027-de76-4ccb-8ca2-8527db9ee806",
   "metadata": {},
   "outputs": [],
   "source": []
  }
 ],
 "metadata": {
  "kernelspec": {
   "display_name": "Python [conda env:base] *",
   "language": "python",
   "name": "conda-base-py"
  },
  "language_info": {
   "codemirror_mode": {
    "name": "ipython",
    "version": 3
   },
   "file_extension": ".py",
   "mimetype": "text/x-python",
   "name": "python",
   "nbconvert_exporter": "python",
   "pygments_lexer": "ipython3",
   "version": "3.12.7"
  },
  "panel-cell-order": [
   "d69dc2d8-a0cb-4250-8ba1-26f82a7dfcb0",
   "2f00f3e3-bbe4-4c9c-8173-b1786d687687",
   "d49a1455-103f-4c12-b00e-40017d51982e",
   "2ed3d143-9a8e-442a-b489-8f11491f0455",
   "69da8b41-3997-4b42-ab3d-4711e30b7686",
   "f251f894-1107-445b-8af2-0a5804234918",
   "91ff7b56-c93b-44cb-baa5-5f5b7917d58c",
   "52ab3146-f11b-4699-8530-db92b516d9e8",
   "e79c1312-de78-4aef-a0cd-52a7e11a006e",
   "c0aefd61-4324-4fb7-b2a0-132692b944e9",
   "11ad64f7-884d-41f7-a889-bb85c73bc7e1",
   "e70aba41-ac67-48b0-ac3d-36add9228d04"
  ]
 },
 "nbformat": 4,
 "nbformat_minor": 5
}
